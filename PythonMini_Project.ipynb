{
  "nbformat": 4,
  "nbformat_minor": 0,
  "metadata": {
    "colab": {
      "provenance": [],
      "authorship_tag": "ABX9TyMShSGMSpM2/Qx+tkEsoPJY",
      "include_colab_link": true
    },
    "kernelspec": {
      "name": "python3",
      "display_name": "Python 3"
    },
    "language_info": {
      "name": "python"
    }
  },
  "cells": [
    {
      "cell_type": "markdown",
      "metadata": {
        "id": "view-in-github",
        "colab_type": "text"
      },
      "source": [
        "<a href=\"https://colab.research.google.com/github/HEMA1188/PythonMini-Project/blob/main/PythonMini_Project.ipynb\" target=\"_parent\"><img src=\"https://colab.research.google.com/assets/colab-badge.svg\" alt=\"Open In Colab\"/></a>"
      ]
    },
    {
      "cell_type": "code",
      "execution_count": 19,
      "metadata": {
        "colab": {
          "base_uri": "https://localhost:8080/"
        },
        "id": "ocgrhCuIO4aX",
        "outputId": "cd8a68e5-3121-4a00-c471-698c38ceeaf2"
      },
      "outputs": [
        {
          "output_type": "stream",
          "name": "stdout",
          "text": [
            "Enter an input number:1\n",
            "1 is not a prime number\n"
          ]
        }
      ],
      "source": [
        "#1.Find out Prime Number\n",
        "def PrimeCheck(n):  \n",
        "    # Checking that given number is more than 1  \n",
        "    if n > 1:  \n",
        "        # Iterating over the given number with for loop  \n",
        "        for i in range(2, int(n/2) + 1):  \n",
        "            # If the given number is divisible or not  \n",
        "            if (n % i) == 0:  \n",
        "                print(n, \"is not a prime number\")  \n",
        "                break  \n",
        "        # Else it is a prime number  \n",
        "        else:  \n",
        "            print(n, \"is a prime number\")  \n",
        "    # If the given number is 1  \n",
        "    else:  \n",
        "        print(n, \"is not a prime number\")  \n",
        "# Taking an input number from the user  \n",
        "n = int(input(\"Enter an input number:\"))  \n",
        "# Printing result  \n",
        "PrimeCheck(n)  "
      ]
    },
    {
      "cell_type": "markdown",
      "source": [
        "2.write a program to create the equation (a+b+c) *  (a-b-c) * ab + a^2 + b ^2 + (abc)^3"
      ],
      "metadata": {
        "id": "CkFMDKLnWF2y"
      }
    },
    {
      "cell_type": "code",
      "source": [
        "a,b,c=map(int,input().split())\n",
        "r=a+b+c\n",
        "r1=a-b-c\n",
        "r2=a*b*c\n",
        "result=r*r1*(a*b)+(a**2)+(b**2)+(r2**3)\n",
        "print(result)"
      ],
      "metadata": {
        "colab": {
          "base_uri": "https://localhost:8080/"
        },
        "id": "xJ2_hvGmWHuo",
        "outputId": "5342d550-03c0-4f15-f3be-42ac6b378fd6"
      },
      "execution_count": 20,
      "outputs": [
        {
          "output_type": "stream",
          "name": "stdout",
          "text": [
            "1 2 3\n",
            "173\n"
          ]
        }
      ]
    },
    {
      "cell_type": "markdown",
      "source": [
        "3. urlist = ['wood','knife','axe'] , mylist = ['tree', 'apple', 'mango', 'melon'] – combine two lists"
      ],
      "metadata": {
        "id": "zG7cd3-XXdhi"
      }
    },
    {
      "cell_type": "code",
      "source": [
        "\n",
        "urlist = ['wood','knife','axe']\n",
        "mylist = ['tree', 'apple', 'mango', 'melon']\n",
        "combine=urlist+mylist\n",
        "print(combine)\n",
        "\n"
      ],
      "metadata": {
        "colab": {
          "base_uri": "https://localhost:8080/"
        },
        "id": "fR9rDmdAThVL",
        "outputId": "c01a202e-c790-43da-d17f-fe6b8b68f966"
      },
      "execution_count": 21,
      "outputs": [
        {
          "output_type": "stream",
          "name": "stdout",
          "text": [
            "['wood', 'knife', 'axe', 'tree', 'apple', 'mango', 'melon']\n"
          ]
        }
      ]
    },
    {
      "cell_type": "markdown",
      "source": [
        "4.write a program for natural number based on user input"
      ],
      "metadata": {
        "id": "WaRH2jsfZRbG"
      }
    },
    {
      "cell_type": "code",
      "source": [
        "n=int(input(\"Enter the User input :\"))\n",
        "for i in range(1,n+1):\n",
        "  print(\"The Natural Number is\")\n",
        "  print(i)"
      ],
      "metadata": {
        "colab": {
          "base_uri": "https://localhost:8080/"
        },
        "id": "ylEBexncZYm2",
        "outputId": "25c44e19-a36e-4b15-c243-ff665293f8b3"
      },
      "execution_count": 24,
      "outputs": [
        {
          "output_type": "stream",
          "name": "stdout",
          "text": [
            "Enter the User input :5\n",
            "The Natural Number is\n",
            "1\n",
            "The Natural Number is\n",
            "2\n",
            "The Natural Number is\n",
            "3\n",
            "The Natural Number is\n",
            "4\n",
            "The Natural Number is\n",
            "5\n"
          ]
        }
      ]
    },
    {
      "cell_type": "markdown",
      "source": [
        "5.write class and function for the equation sqrt(x1-x2) ^ 2 + sqrt( y1 – y2 ) ^2 using try except handling"
      ],
      "metadata": {
        "id": "9mj8t-svZxUa"
      }
    },
    {
      "cell_type": "code",
      "source": [
        "class sqrt():\n",
        "  def __init__(self,x1,y1,x2,y2):\n",
        "    self.x1=x1\n",
        "    self.y1=y1\n",
        "    self.x2=x2\n",
        "    self.y2=y2\n",
        "  def equation(self):\n",
        "\n",
        "    try:\n",
        "      z=((self.x1-self.x2)**2)**0.5+((self.y1-self.y2)**2)**0.5\n",
        "      return z\n",
        "    except StringValueError:\n",
        "      print(\"Given the value as integer Type\")\n",
        "\n",
        "square=sqrt(0,0,1,2)\n",
        "square.equation()\n"
      ],
      "metadata": {
        "id": "mRBiEcdcZwsH",
        "colab": {
          "base_uri": "https://localhost:8080/"
        },
        "outputId": "87d3a86d-cd10-4bd1-ecc6-f0b6b9838890"
      },
      "execution_count": 25,
      "outputs": [
        {
          "output_type": "execute_result",
          "data": {
            "text/plain": [
              "3.0"
            ]
          },
          "metadata": {},
          "execution_count": 25
        }
      ]
    },
    {
      "cell_type": "code",
      "source": [
        "square1=sqrt(1,'2',3,4)\n",
        "square1.equation()"
      ],
      "metadata": {
        "colab": {
          "base_uri": "https://localhost:8080/",
          "height": 432
        },
        "id": "0WgJKRassBpE",
        "outputId": "1fa991d8-23fb-48a1-ee92-bef9240101e3"
      },
      "execution_count": 26,
      "outputs": [
        {
          "output_type": "error",
          "ename": "NameError",
          "evalue": "ignored",
          "traceback": [
            "\u001b[0;31m---------------------------------------------------------------------------\u001b[0m",
            "\u001b[0;31mTypeError\u001b[0m                                 Traceback (most recent call last)",
            "\u001b[0;32m<ipython-input-25-6d11d7bba3e7>\u001b[0m in \u001b[0;36mequation\u001b[0;34m(self)\u001b[0m\n\u001b[1;32m      9\u001b[0m     \u001b[0;32mtry\u001b[0m\u001b[0;34m:\u001b[0m\u001b[0;34m\u001b[0m\u001b[0;34m\u001b[0m\u001b[0m\n\u001b[0;32m---> 10\u001b[0;31m       \u001b[0mz\u001b[0m\u001b[0;34m=\u001b[0m\u001b[0;34m(\u001b[0m\u001b[0;34m(\u001b[0m\u001b[0mself\u001b[0m\u001b[0;34m.\u001b[0m\u001b[0mx1\u001b[0m\u001b[0;34m-\u001b[0m\u001b[0mself\u001b[0m\u001b[0;34m.\u001b[0m\u001b[0mx2\u001b[0m\u001b[0;34m)\u001b[0m\u001b[0;34m**\u001b[0m\u001b[0;36m2\u001b[0m\u001b[0;34m)\u001b[0m\u001b[0;34m**\u001b[0m\u001b[0;36m0.5\u001b[0m\u001b[0;34m+\u001b[0m\u001b[0;34m(\u001b[0m\u001b[0;34m(\u001b[0m\u001b[0mself\u001b[0m\u001b[0;34m.\u001b[0m\u001b[0my1\u001b[0m\u001b[0;34m-\u001b[0m\u001b[0mself\u001b[0m\u001b[0;34m.\u001b[0m\u001b[0my2\u001b[0m\u001b[0;34m)\u001b[0m\u001b[0;34m**\u001b[0m\u001b[0;36m2\u001b[0m\u001b[0;34m)\u001b[0m\u001b[0;34m**\u001b[0m\u001b[0;36m0.5\u001b[0m\u001b[0;34m\u001b[0m\u001b[0;34m\u001b[0m\u001b[0m\n\u001b[0m\u001b[1;32m     11\u001b[0m       \u001b[0;32mreturn\u001b[0m \u001b[0mz\u001b[0m\u001b[0;34m\u001b[0m\u001b[0;34m\u001b[0m\u001b[0m\n",
            "\u001b[0;31mTypeError\u001b[0m: unsupported operand type(s) for -: 'str' and 'int'",
            "\nDuring handling of the above exception, another exception occurred:\n",
            "\u001b[0;31mNameError\u001b[0m                                 Traceback (most recent call last)",
            "\u001b[0;32m<ipython-input-26-d29a92d7d096>\u001b[0m in \u001b[0;36m<module>\u001b[0;34m\u001b[0m\n\u001b[1;32m      1\u001b[0m \u001b[0msquare1\u001b[0m\u001b[0;34m=\u001b[0m\u001b[0msqrt\u001b[0m\u001b[0;34m(\u001b[0m\u001b[0;36m1\u001b[0m\u001b[0;34m,\u001b[0m\u001b[0;34m'2'\u001b[0m\u001b[0;34m,\u001b[0m\u001b[0;36m3\u001b[0m\u001b[0;34m,\u001b[0m\u001b[0;36m4\u001b[0m\u001b[0;34m)\u001b[0m\u001b[0;34m\u001b[0m\u001b[0;34m\u001b[0m\u001b[0m\n\u001b[0;32m----> 2\u001b[0;31m \u001b[0msquare1\u001b[0m\u001b[0;34m.\u001b[0m\u001b[0mequation\u001b[0m\u001b[0;34m(\u001b[0m\u001b[0;34m)\u001b[0m\u001b[0;34m\u001b[0m\u001b[0;34m\u001b[0m\u001b[0m\n\u001b[0m",
            "\u001b[0;32m<ipython-input-25-6d11d7bba3e7>\u001b[0m in \u001b[0;36mequation\u001b[0;34m(self)\u001b[0m\n\u001b[1;32m     10\u001b[0m       \u001b[0mz\u001b[0m\u001b[0;34m=\u001b[0m\u001b[0;34m(\u001b[0m\u001b[0;34m(\u001b[0m\u001b[0mself\u001b[0m\u001b[0;34m.\u001b[0m\u001b[0mx1\u001b[0m\u001b[0;34m-\u001b[0m\u001b[0mself\u001b[0m\u001b[0;34m.\u001b[0m\u001b[0mx2\u001b[0m\u001b[0;34m)\u001b[0m\u001b[0;34m**\u001b[0m\u001b[0;36m2\u001b[0m\u001b[0;34m)\u001b[0m\u001b[0;34m**\u001b[0m\u001b[0;36m0.5\u001b[0m\u001b[0;34m+\u001b[0m\u001b[0;34m(\u001b[0m\u001b[0;34m(\u001b[0m\u001b[0mself\u001b[0m\u001b[0;34m.\u001b[0m\u001b[0my1\u001b[0m\u001b[0;34m-\u001b[0m\u001b[0mself\u001b[0m\u001b[0;34m.\u001b[0m\u001b[0my2\u001b[0m\u001b[0;34m)\u001b[0m\u001b[0;34m**\u001b[0m\u001b[0;36m2\u001b[0m\u001b[0;34m)\u001b[0m\u001b[0;34m**\u001b[0m\u001b[0;36m0.5\u001b[0m\u001b[0;34m\u001b[0m\u001b[0;34m\u001b[0m\u001b[0m\n\u001b[1;32m     11\u001b[0m       \u001b[0;32mreturn\u001b[0m \u001b[0mz\u001b[0m\u001b[0;34m\u001b[0m\u001b[0;34m\u001b[0m\u001b[0m\n\u001b[0;32m---> 12\u001b[0;31m     \u001b[0;32mexcept\u001b[0m \u001b[0mStringValueError\u001b[0m\u001b[0;34m:\u001b[0m\u001b[0;34m\u001b[0m\u001b[0;34m\u001b[0m\u001b[0m\n\u001b[0m\u001b[1;32m     13\u001b[0m       \u001b[0mprint\u001b[0m\u001b[0;34m(\u001b[0m\u001b[0;34m\"Given the value as integer Type\"\u001b[0m\u001b[0;34m)\u001b[0m\u001b[0;34m\u001b[0m\u001b[0;34m\u001b[0m\u001b[0m\n\u001b[1;32m     14\u001b[0m \u001b[0;34m\u001b[0m\u001b[0m\n",
            "\u001b[0;31mNameError\u001b[0m: name 'StringValueError' is not defined"
          ]
        }
      ]
    },
    {
      "cell_type": "markdown",
      "source": [
        "6. Name  = “Guvi python”  - write a program to get “python” word from the string"
      ],
      "metadata": {
        "id": "TZ2Wdhf8aqgI"
      }
    },
    {
      "cell_type": "code",
      "source": [
        "Name=\"Guvi python\"\n",
        "Name1=Name.split()\n",
        "print(Name1[1])"
      ],
      "metadata": {
        "colab": {
          "base_uri": "https://localhost:8080/"
        },
        "id": "2HTChqfharbi",
        "outputId": "da04929d-f894-4b3e-deee-debd6b46ef71"
      },
      "execution_count": 27,
      "outputs": [
        {
          "output_type": "stream",
          "name": "stdout",
          "text": [
            "python\n"
          ]
        }
      ]
    },
    {
      "cell_type": "markdown",
      "source": [
        "7.Using class and function - Write a program for palindrome Ex. Madam"
      ],
      "metadata": {
        "id": "9PR7XK20bZZy"
      }
    },
    {
      "cell_type": "code",
      "source": [
        "\n",
        "# Define a class for Checking Palindrome String\n",
        "class Check :\n",
        "\n",
        "    # Constructor\n",
        "    def __init__(self,s) :\n",
        "        self.s = s\n",
        "        \n",
        "    # define a method for checking Given string is Palindrome or not \n",
        "    def isPalindrome(self) :\n",
        "\n",
        "        # initialise local variable result reversed of given string\n",
        "    \n",
        "        result = self.s[::-1]\n",
        "\n",
        "\n",
        "        # check result equal to the s attribute or not\n",
        "        if self.s == result :\n",
        "            print(self.s,\"is Palindrome\")\n",
        "        else :\n",
        "            print(self.s,\"is not Palindrome\")\n",
        "\n",
        "\n",
        "# Main code \n",
        "if __name__ == \"__main__\" :\n",
        "    \n",
        "    # user input as string\n",
        "    s=input()\n",
        "    \n",
        "    # make an object of Check class\n",
        "    check_Palindrome = Check(s)\n",
        "    \n",
        "    # check_Palindrome object's method call\n",
        "    check_Palindrome.isPalindrome()"
      ],
      "metadata": {
        "colab": {
          "base_uri": "https://localhost:8080/"
        },
        "id": "Pl5uBaNk3x1b",
        "outputId": "e920844f-e32a-4560-8695-f940b11feeae"
      },
      "execution_count": 28,
      "outputs": [
        {
          "output_type": "stream",
          "name": "stdout",
          "text": [
            "madam\n",
            "madam is Palindrome\n"
          ]
        }
      ]
    },
    {
      "cell_type": "markdown",
      "source": [
        "8.using file handling – write a text file in ur system with “hello world”"
      ],
      "metadata": {
        "id": "NHK4jRNZgREL"
      }
    },
    {
      "cell_type": "code",
      "source": [
        "File=open(\"Hello World.txt\",'w')\n",
        "lst=[\" This is Chennai\\n\", \"This is Mumbai\\n\", \"This is Kerala\\n\"]\n",
        "s=\"Hello World\\n\"\n",
        "File.write(s)\n",
        "File.writelines(lst)\n",
        "File.close()"
      ],
      "metadata": {
        "id": "gSEpge7xjRR0"
      },
      "execution_count": 29,
      "outputs": []
    },
    {
      "cell_type": "code",
      "source": [
        "f=open('Hello World.txt','r')\n",
        "for i in f:\n",
        "  print(i)"
      ],
      "metadata": {
        "colab": {
          "base_uri": "https://localhost:8080/"
        },
        "id": "Ateda_TYkIyj",
        "outputId": "06bb0ae4-1d92-4beb-a491-2323aee88cd0"
      },
      "execution_count": 30,
      "outputs": [
        {
          "output_type": "stream",
          "name": "stdout",
          "text": [
            "Hello World\n",
            "\n",
            " This is Chennai\n",
            "\n",
            "This is Mumbai\n",
            "\n",
            "This is Kerala\n",
            "\n"
          ]
        }
      ]
    },
    {
      "cell_type": "markdown",
      "source": [
        "\n",
        "\n",
        "---\n",
        "\n"
      ],
      "metadata": {
        "id": "xL9VEs31kRD9"
      }
    },
    {
      "cell_type": "markdown",
      "source": [
        "10.Keep only numbers from the following string x = “ 89e9jcd^o38829@3%3,/mkl$w1”"
      ],
      "metadata": {
        "id": "0LwRA4BLeYXI"
      }
    },
    {
      "cell_type": "code",
      "source": [
        "x = \"89e9jcd^o38829@3%3,/mkI$w1\"\n",
        "y=[]\n",
        "for i in x:\n",
        "  if i.isnumeric():\n",
        "    y.append(i)\n",
        "print(*y)\n",
        "\n"
      ],
      "metadata": {
        "colab": {
          "base_uri": "https://localhost:8080/"
        },
        "id": "-eDKpidieZfa",
        "outputId": "c75f71a3-87ef-4887-946f-14fdb42fcc91"
      },
      "execution_count": 31,
      "outputs": [
        {
          "output_type": "stream",
          "name": "stdout",
          "text": [
            "8 9 9 3 8 8 2 9 3 3 1\n"
          ]
        }
      ]
    }
  ]
}